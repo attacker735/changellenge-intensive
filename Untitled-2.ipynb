{
 "cells": [
  {
   "cell_type": "code",
   "execution_count": 1,
   "metadata": {},
   "outputs": [],
   "source": [
    "import pandas as pd\n",
    "import matplotlib as plt"
   ]
  },
  {
   "cell_type": "code",
   "execution_count": 7,
   "metadata": {},
   "outputs": [
    {
     "data": {
      "text/html": [
       "<div>\n",
       "<style scoped>\n",
       "    .dataframe tbody tr th:only-of-type {\n",
       "        vertical-align: middle;\n",
       "    }\n",
       "\n",
       "    .dataframe tbody tr th {\n",
       "        vertical-align: top;\n",
       "    }\n",
       "\n",
       "    .dataframe thead th {\n",
       "        text-align: right;\n",
       "    }\n",
       "</style>\n",
       "<table border=\"1\" class=\"dataframe\">\n",
       "  <thead>\n",
       "    <tr style=\"text-align: right;\">\n",
       "      <th></th>\n",
       "      <th>Тип точки</th>\n",
       "      <th>Выручка</th>\n",
       "      <th>Число покупок</th>\n",
       "      <th>Средняя выручка</th>\n",
       "    </tr>\n",
       "  </thead>\n",
       "  <tbody>\n",
       "    <tr>\n",
       "      <th>0</th>\n",
       "      <td>Вендинговый автомат</td>\n",
       "      <td>202679</td>\n",
       "      <td>3949</td>\n",
       "      <td>51.324133</td>\n",
       "    </tr>\n",
       "    <tr>\n",
       "      <th>1</th>\n",
       "      <td>Кафе</td>\n",
       "      <td>193960</td>\n",
       "      <td>1768</td>\n",
       "      <td>109.705882</td>\n",
       "    </tr>\n",
       "    <tr>\n",
       "      <th>2</th>\n",
       "      <td>Киоск</td>\n",
       "      <td>221969</td>\n",
       "      <td>2666</td>\n",
       "      <td>83.259190</td>\n",
       "    </tr>\n",
       "  </tbody>\n",
       "</table>\n",
       "</div>"
      ],
      "text/plain": [
       "             Тип точки  Выручка  Число покупок  Средняя выручка\n",
       "0  Вендинговый автомат   202679           3949        51.324133\n",
       "1                 Кафе   193960           1768       109.705882\n",
       "2                Киоск   221969           2666        83.259190"
      ]
     },
     "execution_count": 7,
     "metadata": {},
     "output_type": "execute_result"
    }
   ],
   "source": [
    "path = 'Мини-кейс_Excel_Python.xlsx'\n",
    "t = pd.read_excel(path)\n",
    "tt = t.groupby('Тип точки').agg({'Выручка': 'sum', 'Число покупок': 'sum'})\n",
    "tt['Средняя выручка'] = tt['Выручка'] / tt['Число покупок']\n",
    "tt.reset_index()"
   ]
  },
  {
   "cell_type": "code",
   "execution_count": null,
   "metadata": {},
   "outputs": [],
   "source": []
  }
 ],
 "metadata": {
  "kernelspec": {
   "display_name": "base",
   "language": "python",
   "name": "python3"
  },
  "language_info": {
   "codemirror_mode": {
    "name": "ipython",
    "version": 3
   },
   "file_extension": ".py",
   "mimetype": "text/x-python",
   "name": "python",
   "nbconvert_exporter": "python",
   "pygments_lexer": "ipython3",
   "version": "3.12.4"
  }
 },
 "nbformat": 4,
 "nbformat_minor": 2
}
